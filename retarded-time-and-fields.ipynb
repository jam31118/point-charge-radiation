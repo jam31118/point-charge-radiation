{
 "cells": [
  {
   "cell_type": "code",
   "execution_count": 1,
   "metadata": {},
   "outputs": [],
   "source": [
    "import numpy as np\n",
    "import matplotlib.pyplot as plt"
   ]
  },
  {
   "cell_type": "code",
   "execution_count": 2,
   "metadata": {},
   "outputs": [],
   "source": [
    "from numpy import zeros_like\n",
    "def z_s(t):\n",
    "    return zeros_like(t)"
   ]
  },
  {
   "cell_type": "code",
   "execution_count": 3,
   "metadata": {},
   "outputs": [],
   "source": [
    "rho_arr = np.linspace(0,1,11)\n",
    "z_arr = np.linspace(-1,1,21)"
   ]
  },
  {
   "cell_type": "code",
   "execution_count": 4,
   "metadata": {},
   "outputs": [],
   "source": [
    "rho_mesh, z_mesh = np.meshgrid(rho_arr, z_arr, indexing='ij')"
   ]
  },
  {
   "cell_type": "code",
   "execution_count": 5,
   "metadata": {},
   "outputs": [],
   "source": [
    "from numpy import sqrt\n",
    "def retarded_time_eq(tau, t, rho, z, z_s):\n",
    "    return sqrt(rho**2 + (z - z_s(t-tau))**2)"
   ]
  },
  {
   "cell_type": "code",
   "execution_count": 6,
   "metadata": {},
   "outputs": [],
   "source": [
    "from scipy.optimize import fixed_point\n",
    "\n",
    "tau_mesh = np.empty((rho_arr.size, z_arr.size))\n",
    "for i, j in np.ndindex(rho_arr.size, z_arr.size):\n",
    "    tau_mesh[i,j] = fixed_point(retarded_time_eq, 0., args=(0., rho_arr[i], z_arr[j], z_s))"
   ]
  },
  {
   "cell_type": "code",
   "execution_count": 7,
   "metadata": {},
   "outputs": [],
   "source": [
    "R_mesh = sqrt(rho_mesh**2 + (z_mesh - z_s(tau_mesh))**2)"
   ]
  },
  {
   "cell_type": "code",
   "execution_count": 8,
   "metadata": {},
   "outputs": [],
   "source": [
    "R_mesh_regulated = R_mesh.copy()\n",
    "R_mesh_regulated[R_mesh == 0] = np.min(R_mesh[R_mesh!=0])"
   ]
  },
  {
   "cell_type": "code",
   "execution_count": 9,
   "metadata": {},
   "outputs": [],
   "source": [
    "one_over_R_mesh = 1./ R_mesh_regulated"
   ]
  },
  {
   "cell_type": "code",
   "execution_count": 10,
   "metadata": {},
   "outputs": [],
   "source": [
    "phi_mesh = one_over_R_mesh"
   ]
  },
  {
   "cell_type": "code",
   "execution_count": 11,
   "metadata": {},
   "outputs": [],
   "source": [
    "from matplotlib import rcParams\n",
    "rcParams['font.size'] = 13"
   ]
  },
  {
   "cell_type": "code",
   "execution_count": 12,
   "metadata": {},
   "outputs": [
    {
     "data": {
      "image/png": "[encoded data removed]",
      "text/plain": [
       "<Figure size 576x216 with 2 Axes>"
      ]
     },
     "metadata": {
      "needs_background": "light"
     },
     "output_type": "display_data"
    }
   ],
   "source": [
    "fig, ax = plt.subplots(figsize=(8,3))\n",
    "img = ax.imshow(phi_mesh, extent=(*z_arr[[0,-1]], *rho_arr[[0,-1]]), aspect='equal', origin='lower')\n",
    "cb = fig.colorbar(img, ax=ax)\n",
    "cb.set_label(r\"scalar potential $\\Phi$\", fontsize='large')\n",
    "ax.set_xlabel(\"z / $x_{0}$\", fontsize='x-large')\n",
    "ax.set_ylabel(r\"$\\rho$ / $x_{0}$\", fontsize='x-large')\n",
    "fig.tight_layout()\n",
    "# fig.savefig(\"scalar-potential-test-1.png\")"
   ]
  },
  {
   "cell_type": "code",
   "execution_count": 13,
   "metadata": {},
   "outputs": [
    {
     "data": {
      "text/plain": [
       "array([-0.82462113, -0.72462113, -0.62462113, -0.52462113, -0.42462113,\n",
       "       -0.32462113, -0.22462113, -0.12462113, -0.02462113,  0.07537887,\n",
       "        0.17537887])"
      ]
     },
     "execution_count": 13,
     "metadata": {},
     "output_type": "execute_result"
    }
   ],
   "source": [
    "tau_arr = np.linspace(0,1,11)\n",
    "tau_arr - np.sqrt(rho_arr[2]**2 + (z_arr[2] - z_s(0.-tau_arr))**2)"
   ]
  },
  {
   "cell_type": "code",
   "execution_count": 14,
   "metadata": {},
   "outputs": [
    {
     "data": {
      "text/plain": [
       "array([0.82462113, 0.82462113, 0.82462113, 0.82462113, 0.82462113,\n",
       "       0.82462113, 0.82462113, 0.82462113, 0.82462113, 0.82462113,\n",
       "       0.82462113])"
      ]
     },
     "execution_count": 14,
     "metadata": {},
     "output_type": "execute_result"
    }
   ],
   "source": [
    "retarded_time_eq(tau_arr, 0, rho_arr[2], z_arr[2], z_s)"
   ]
  },
  {
   "cell_type": "markdown",
   "metadata": {},
   "source": [
    "#### Testing the fixed-point method"
   ]
  },
  {
   "cell_type": "code",
   "execution_count": 15,
   "metadata": {},
   "outputs": [],
   "source": [
    "from scipy.optimize import fixed_point"
   ]
  },
  {
   "cell_type": "code",
   "execution_count": 16,
   "metadata": {},
   "outputs": [],
   "source": [
    "from numpy import sqrt\n",
    "def ftest(x, a):\n",
    "    return sqrt(x+a)"
   ]
  },
  {
   "cell_type": "code",
   "execution_count": 17,
   "metadata": {},
   "outputs": [
    {
     "data": {
      "text/plain": [
       "array(2.)"
      ]
     },
     "execution_count": 17,
     "metadata": {},
     "output_type": "execute_result"
    }
   ],
   "source": [
    "fixed_point(ftest, 0, args=(2,))"
   ]
  }
 ],
 "metadata": {
  "kernelspec": {
   "display_name": "Python 3",
   "language": "python",
   "name": "python3"
  },
  "language_info": {
   "codemirror_mode": {
    "name": "ipython",
    "version": 3
   },
   "file_extension": ".py",
   "mimetype": "text/x-python",
   "name": "python",
   "nbconvert_exporter": "python",
   "pygments_lexer": "ipython3",
   "version": "3.8.2"
  }
 },
 "nbformat": 4,
 "nbformat_minor": 4
}
