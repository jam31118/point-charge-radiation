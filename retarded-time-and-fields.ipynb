{
 "cells": [
  {
   "cell_type": "code",
   "execution_count": 1,
   "metadata": {},
   "outputs": [],
   "source": [
    "import numpy as np\n",
    "import matplotlib.pyplot as plt\n",
    "\n",
    "from matplotlib import rcParams\n",
    "rcParams['font.size'] = 13"
   ]
  },
  {
   "cell_type": "markdown",
   "metadata": {},
   "source": [
    "# For motion in 2D Cartesian coordinates"
   ]
  },
  {
   "cell_type": "code",
   "execution_count": 2,
   "metadata": {},
   "outputs": [],
   "source": [
    "x_arr = np.linspace(-5,5,31)\n",
    "y_arr = np.linspace(-5,5,21)\n",
    "\n",
    "x_mesh, y_mesh = np.meshgrid(x_arr, y_arr, indexing='ij')\n",
    "\n",
    "mesh_shape = x_mesh.shape\n",
    "\n",
    "spatial_dimenion = 2\n",
    "vec_mesh_shape = mesh_shape + (spatial_dimenion,)"
   ]
  },
  {
   "cell_type": "code",
   "execution_count": 3,
   "metadata": {},
   "outputs": [],
   "source": [
    "from numpy import sin, cos\n",
    "\n",
    "vx0 = 0.1\n",
    "def xs_f(t): return vx0 * t\n",
    "def vxs_f(t): return vx0 * np.ones_like(t)\n",
    "\n",
    "omega0 = 0.5\n",
    "def ys_f(t): return (t > 0.) * sin(omega0*t)\n",
    "def vys_f(t): return (t > 0.) * omega0 * cos(omega0*t)"
   ]
  },
  {
   "cell_type": "code",
   "execution_count": 4,
   "metadata": {},
   "outputs": [],
   "source": [
    "t_arr = np.linspace(-5, 10, 21)"
   ]
  },
  {
   "cell_type": "code",
   "execution_count": 5,
   "metadata": {},
   "outputs": [],
   "source": [
    "from matplotlib.patches import Rectangle"
   ]
  },
  {
   "cell_type": "code",
   "execution_count": 6,
   "metadata": {},
   "outputs": [
    {
     "data": {
      "text/plain": [
       "Text(0, 0.5, 'y / $y_{0}$')"
      ]
     },
     "execution_count": 6,
     "metadata": {},
     "output_type": "execute_result"
    },
    {
     "data": {
      "image/png": "[encoded data removed]",
      "text/plain": [
       "<Figure size 432x288 with 1 Axes>"
      ]
     },
     "metadata": {
      "needs_background": "light"
     },
     "output_type": "display_data"
    }
   ],
   "source": [
    "fig, ax = plt.subplots()\n",
    "ax.plot(xs_f(t_arr), ys_f(t_arr), '.')\n",
    "# rect = Rectangle((x_arr[0], y_arr[0]), x_arr[-1]-x_arr[0], y_arr[-1]-y_arr[0], facecolor='none', edgecolor='black')\n",
    "# ax.add_patch(rect)\n",
    "ax.set_aspect('equal')\n",
    "ax.set_xlim(x_arr[[0,-1]]), ax.set_ylim(y_arr[[0,-1]])\n",
    "ax.set_xlabel(\"x / $x_{0}$\", fontsize='x-large')\n",
    "ax.set_ylabel(r\"y / $y_{0}$\", fontsize='x-large')"
   ]
  },
  {
   "cell_type": "code",
   "execution_count": 7,
   "metadata": {},
   "outputs": [],
   "source": [
    "from numpy import sqrt\n",
    "def retarded_time_eq(tau, t, x, y, xs, ys):\n",
    "    return sqrt((x-xs(t-tau))**2 + (y - ys(t-tau))**2)"
   ]
  },
  {
   "cell_type": "code",
   "execution_count": 8,
   "metadata": {},
   "outputs": [
    {
     "data": {
      "text/plain": [
       "10.0"
      ]
     },
     "execution_count": 8,
     "metadata": {},
     "output_type": "execute_result"
    }
   ],
   "source": [
    "t_index = -1\n",
    "t_arr[t_index]"
   ]
  },
  {
   "cell_type": "code",
   "execution_count": 9,
   "metadata": {},
   "outputs": [],
   "source": [
    "from scipy.optimize import fixed_point\n",
    "\n",
    "tau_mesh = np.empty(mesh_shape)\n",
    "for i, j in np.ndindex(*tau_mesh.shape):\n",
    "    tau_mesh[i,j] = fixed_point(retarded_time_eq, x0=0., args=(t_arr[t_index], x_arr[i], y_arr[j], xs_f, ys_f))\n",
    "\n",
    "tr_mesh = t_arr[t_index] - tau_mesh"
   ]
  },
  {
   "cell_type": "code",
   "execution_count": 10,
   "metadata": {},
   "outputs": [],
   "source": [
    "xs_tr_mesh = xs_f(tr_mesh)\n",
    "ys_tr_mesh = ys_f(tr_mesh)"
   ]
  },
  {
   "cell_type": "code",
   "execution_count": 11,
   "metadata": {},
   "outputs": [
    {
     "data": {
      "text/plain": [
       "[<matplotlib.lines.Line2D at 0x7f58ea7947f0>]"
      ]
     },
     "execution_count": 11,
     "metadata": {},
     "output_type": "execute_result"
    },
    {
     "data": {
      "image/png": "[encoded data removed]",
      "text/plain": [
       "<Figure size 432x288 with 1 Axes>"
      ]
     },
     "metadata": {
      "needs_background": "light"
     },
     "output_type": "display_data"
    }
   ],
   "source": [
    "fig, ax = plt.subplots()\n",
    "\n",
    "ax.plot(xs_tr_mesh.ravel(), ys_tr_mesh.ravel(), '.')"
   ]
  },
  {
   "cell_type": "code",
   "execution_count": 12,
   "metadata": {},
   "outputs": [],
   "source": [
    "R_vec_mesh = np.empty(vec_mesh_shape)\n",
    "\n",
    "R_vec_mesh[...,0] = x_mesh - xs_tr_mesh\n",
    "R_vec_mesh[...,1] = y_mesh - ys_tr_mesh"
   ]
  },
  {
   "cell_type": "code",
   "execution_count": 13,
   "metadata": {},
   "outputs": [],
   "source": [
    "R_mesh = np.linalg.norm(R_vec_mesh, axis=-1)\n",
    "# R_mesh = sqrt((x_mesh - xs_tr_mesh)**2 + (y_mesh - ys_tr_mesh)**2)"
   ]
  },
  {
   "cell_type": "code",
   "execution_count": 14,
   "metadata": {},
   "outputs": [],
   "source": [
    "vs_vec_mesh = np.empty(vec_mesh_shape)\n",
    "vs_vec_mesh[...,0] = vxs_f(tr_mesh)\n",
    "vs_vec_mesh[...,1] = vys_f(tr_mesh)"
   ]
  },
  {
   "cell_type": "code",
   "execution_count": 15,
   "metadata": {},
   "outputs": [],
   "source": [
    "R_dot_v_mesh = np.sum(R_vec_mesh * vs_vec_mesh, axis=-1)"
   ]
  },
  {
   "cell_type": "code",
   "execution_count": 16,
   "metadata": {},
   "outputs": [],
   "source": [
    "temp_mesh = R_mesh - R_dot_v_mesh\n",
    "temp_mesh[temp_mesh==0] = temp_mesh[temp_mesh!=0].min()\n",
    "R_minus_R_dot_v_mesh_regulated = temp_mesh\n",
    "phi_mesh = 1./ R_minus_R_dot_v_mesh_regulated"
   ]
  },
  {
   "cell_type": "markdown",
   "metadata": {},
   "source": [
    "#### Visualize the scalar potential $\\Phi(\\mathbf{x},t)$"
   ]
  },
  {
   "cell_type": "code",
   "execution_count": 17,
   "metadata": {},
   "outputs": [
    {
     "data": {
      "text/plain": [
       "(0.10525217330063102, 1.6698927736493963)"
      ]
     },
     "execution_count": 17,
     "metadata": {},
     "output_type": "execute_result"
    }
   ],
   "source": [
    "phi_lower_val, phi_upper_val = np.quantile(phi_mesh, [0.001, 0.99]) \n",
    "# phi_mesh\n",
    "\n",
    "phi_lower_val, phi_upper_val"
   ]
  },
  {
   "cell_type": "code",
   "execution_count": 18,
   "metadata": {},
   "outputs": [],
   "source": [
    "from matplotlib.colors import LogNorm, Normalize"
   ]
  },
  {
   "cell_type": "code",
   "execution_count": 19,
   "metadata": {},
   "outputs": [
    {
     "data": {
      "image/png": "[encoded data removed]",
      "text/plain": [
       "<Figure size 576x432 with 2 Axes>"
      ]
     },
     "metadata": {
      "needs_background": "light"
     },
     "output_type": "display_data"
    }
   ],
   "source": [
    "fig, ax = plt.subplots(figsize=(8,6))\n",
    "\n",
    "img = ax.imshow(phi_mesh.transpose(), extent=(*x_arr[[0,-1]], *y_arr[[0,-1]]), \n",
    "                aspect='equal', origin='lower', norm=Normalize(phi_lower_val, phi_upper_val), cmap='binary')\n",
    "cb = fig.colorbar(img, ax=ax)\n",
    "\n",
    "# ax.plot(xs_f(t_arr[t_index]), ys_f(t_arr[t_index]), 'x', color='white')\n",
    "ax.plot(xs_f(t_arr[:t_index]), ys_f(t_arr[:t_index]), '.', color='darksalmon')\n",
    "\n",
    "cb.set_label(r\"scalar potential $\\Phi$\", fontsize='large')\n",
    "ax.set_xlabel(\"x / $x_{0}$\", fontsize='x-large')\n",
    "ax.set_ylabel(r\"y / $y_{0}$\", fontsize='x-large')\n",
    "fig.tight_layout()\n",
    "# fig.savefig(\"xy-scalar-potential-test-2.png\")"
   ]
  },
  {
   "cell_type": "markdown",
   "metadata": {},
   "source": [
    "# For a linear motion"
   ]
  },
  {
   "cell_type": "code",
   "execution_count": null,
   "metadata": {},
   "outputs": [],
   "source": [
    "v0 = 0.1\n",
    "def z_s(t):\n",
    "    return v0 * t\n",
    "def z_dot_s(t):\n",
    "    return v0 * np.ones_like(t)"
   ]
  },
  {
   "cell_type": "code",
   "execution_count": null,
   "metadata": {},
   "outputs": [],
   "source": [
    "rho_arr = np.linspace(0,1,11)\n",
    "z_arr = np.linspace(-1,1,21)\n",
    "\n",
    "rho_mesh, z_mesh = np.meshgrid(rho_arr, z_arr, indexing='ij')"
   ]
  },
  {
   "cell_type": "code",
   "execution_count": null,
   "metadata": {},
   "outputs": [],
   "source": [
    "from numpy import sqrt\n",
    "def retarded_time_eq(tau, t, rho, z, z_s):\n",
    "    return sqrt(rho**2 + (z - z_s(t-tau))**2)"
   ]
  },
  {
   "cell_type": "code",
   "execution_count": null,
   "metadata": {},
   "outputs": [],
   "source": [
    "t_arr = np.linspace(0, 5, 11)\n",
    "t_index = -1"
   ]
  },
  {
   "cell_type": "code",
   "execution_count": null,
   "metadata": {},
   "outputs": [],
   "source": [
    "z_s(t_arr[t_index])"
   ]
  },
  {
   "cell_type": "code",
   "execution_count": null,
   "metadata": {},
   "outputs": [],
   "source": [
    "from scipy.optimize import fixed_point\n",
    "\n",
    "tau_mesh = np.empty((rho_arr.size, z_arr.size))\n",
    "for i, j in np.ndindex(rho_arr.size, z_arr.size):\n",
    "    tau_mesh[i,j] = fixed_point(retarded_time_eq, x0=0., args=(t_arr[t_index], rho_arr[i], z_arr[j], z_s))"
   ]
  },
  {
   "cell_type": "code",
   "execution_count": null,
   "metadata": {},
   "outputs": [],
   "source": [
    "tr_mesh = t_arr[t_index] - tau_mesh"
   ]
  },
  {
   "cell_type": "code",
   "execution_count": null,
   "metadata": {},
   "outputs": [],
   "source": [
    "R_mesh = sqrt(rho_mesh**2 + (z_mesh - z_s(tr_mesh))**2)"
   ]
  },
  {
   "cell_type": "code",
   "execution_count": null,
   "metadata": {},
   "outputs": [],
   "source": [
    "R_mesh_regulated = R_mesh.copy()\n",
    "R_mesh_regulated[R_mesh == 0] = np.min(R_mesh[R_mesh!=0])"
   ]
  },
  {
   "cell_type": "code",
   "execution_count": null,
   "metadata": {},
   "outputs": [],
   "source": [
    "one_over_R_mesh = 1./ R_mesh_regulated"
   ]
  },
  {
   "cell_type": "code",
   "execution_count": null,
   "metadata": {},
   "outputs": [],
   "source": [
    "R_dot_v_mesh = (z_mesh - z_s(tr_mesh)) * z_dot_s(tr_mesh)"
   ]
  },
  {
   "cell_type": "code",
   "execution_count": null,
   "metadata": {},
   "outputs": [],
   "source": [
    "temp_mesh = R_mesh - R_dot_v_mesh\n",
    "temp_mesh[temp_mesh==0] = temp_mesh[temp_mesh!=0].min()\n",
    "phi_mesh = 1./temp_mesh\n",
    "\n",
    "# phi_mesh = one_over_R_mesh"
   ]
  },
  {
   "cell_type": "code",
   "execution_count": null,
   "metadata": {},
   "outputs": [],
   "source": [
    "phi_lower_val, phi_upper_val = np.quantile(phi_mesh, [0.01, 0.99]) \n",
    "# phi_mesh\n",
    "\n",
    "phi_lower_val, phi_upper_val"
   ]
  },
  {
   "cell_type": "code",
   "execution_count": null,
   "metadata": {},
   "outputs": [],
   "source": [
    "fig, ax = plt.subplots(figsize=(8,3))\n",
    "img = ax.imshow(phi_mesh, extent=(*z_arr[[0,-1]], *rho_arr[[0,-1]]), \n",
    "                aspect='equal', origin='lower', vmin=phi_lower_val, vmax=phi_upper_val, cmap='binary')\n",
    "cb = fig.colorbar(img, ax=ax)\n",
    "cb.set_label(r\"scalar potential $\\Phi$\", fontsize='large')\n",
    "ax.set_xlabel(\"z / $x_{0}$\", fontsize='x-large')\n",
    "ax.set_ylabel(r\"$\\rho$ / $x_{0}$\", fontsize='x-large')\n",
    "fig.tight_layout()\n",
    "# fig.savefig(\"scalar-potential-test-2.png\")"
   ]
  },
  {
   "cell_type": "markdown",
   "metadata": {},
   "source": [
    "# For a generic movement in 3D"
   ]
  },
  {
   "cell_type": "code",
   "execution_count": null,
   "metadata": {},
   "outputs": [],
   "source": [
    "from numpy import asarray\n",
    "def r_s(t):\n",
    "    _t = asarray(t)\n",
    "    _shape = (3,)\n",
    "    if _t.ndim > 0: _shape = _t.shape + _shape\n",
    "    \n",
    "    _r_s = np.empty(_shape, dtype=float)\n",
    "    _r_s[...,0] = 0.\n",
    "    _r_s[...,1] = 0.\n",
    "    _r_s[...,2] = 0.\n",
    "    \n",
    "    return _r_s"
   ]
  }
 ],
 "metadata": {
  "kernelspec": {
   "display_name": "Python 3",
   "language": "python",
   "name": "python3"
  },
  "language_info": {
   "codemirror_mode": {
    "name": "ipython",
    "version": 3
   },
   "file_extension": ".py",
   "mimetype": "text/x-python",
   "name": "python",
   "nbconvert_exporter": "python",
   "pygments_lexer": "ipython3",
   "version": "3.8.2"
  }
 },
 "nbformat": 4,
 "nbformat_minor": 4
}
